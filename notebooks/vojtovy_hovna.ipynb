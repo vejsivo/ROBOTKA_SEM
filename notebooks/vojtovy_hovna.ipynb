{
 "cells": [
  {
   "cell_type": "code",
   "execution_count": 165,
   "id": "9922343d",
   "metadata": {},
   "outputs": [
    {
     "data": {
      "text/plain": [
       "<module 'perception' from '/home/vojta/Desktop/b3b33rob1/ROBOTKA_SEM/perception.py'>"
      ]
     },
     "execution_count": 165,
     "metadata": {},
     "output_type": "execute_result"
    }
   ],
   "source": [
    "import sys\n",
    "import os\n",
    "import cv2 as cv\n",
    "import importlib\n",
    "sys.path.append(os.path.abspath(os.path.join(os.getcwd(), '..')))\n",
    "import perception\n",
    "\n",
    "from perception import detect_aruco_centers, detect_object_center\n",
    "importlib.reload(perception)"
   ]
  },
  {
   "cell_type": "code",
   "execution_count": 166,
   "id": "9eb74ec2",
   "metadata": {},
   "outputs": [
    {
     "name": "stdout",
     "output_type": "stream",
     "text": [
      "[966.   665.75]\n"
     ]
    }
   ],
   "source": [
    "image = cv.imread(\"../images/image_stred.png\")\n",
    "\n",
    "#print(detect_aruco_centers(image=image))\n",
    "print(detect_object_center(image=image))"
   ]
  },
  {
   "cell_type": "code",
   "execution_count": null,
   "id": "9661371b",
   "metadata": {},
   "outputs": [],
   "source": []
  }
 ],
 "metadata": {
  "kernelspec": {
   "display_name": "Python 3",
   "language": "python",
   "name": "python3"
  },
  "language_info": {
   "codemirror_mode": {
    "name": "ipython",
    "version": 3
   },
   "file_extension": ".py",
   "mimetype": "text/x-python",
   "name": "python",
   "nbconvert_exporter": "python",
   "pygments_lexer": "ipython3",
   "version": "3.10.12"
  }
 },
 "nbformat": 4,
 "nbformat_minor": 5
}
